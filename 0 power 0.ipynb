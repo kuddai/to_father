{
 "cells": [
  {
   "cell_type": "markdown",
   "metadata": {},
   "source": [
    "$5 ^ 2 = 25$\n",
    "\n",
    "$\\frac{5 ^ 2}{5 ^ 1} = \\frac{25}{5} = 5 = 5 ^ {2 - 1} = 5 ^ 1$\n",
    "\n",
    "$\\frac{5 ^ 2}{5 ^ 2} = \\frac{25}{25} = 1 = 5 ^ {2 - 2} = 5 ^ 0$\n",
    "\n",
    "$5^0=1$\n",
    "\n",
    "$\\frac{0^1}{0^1}= 0^{1-1}=0^0 = \\text{в пределе получается 1, без предела не определенность}$"
   ]
  }
 ],
 "metadata": {
  "kernelspec": {
   "display_name": "Python 3",
   "language": "python",
   "name": "python3"
  },
  "language_info": {
   "codemirror_mode": {
    "name": "ipython",
    "version": 3
   },
   "file_extension": ".py",
   "mimetype": "text/x-python",
   "name": "python",
   "nbconvert_exporter": "python",
   "pygments_lexer": "ipython3",
   "version": "3.6.9"
  }
 },
 "nbformat": 4,
 "nbformat_minor": 2
}
